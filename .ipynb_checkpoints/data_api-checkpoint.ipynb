{
 "cells": [
  {
   "cell_type": "code",
   "execution_count": 1,
   "id": "9591fb1c",
   "metadata": {},
   "outputs": [
    {
     "name": "stdout",
     "output_type": "stream",
     "text": [
      "Collecting spotipy\n",
      "  Downloading spotipy-2.21.0-py3-none-any.whl (28 kB)\n",
      "Requirement already satisfied: requests>=2.25.0 in c:\\users\\toast\\anaconda3\\lib\\site-packages (from spotipy) (2.26.0)\n",
      "Collecting redis>=3.5.3\n",
      "  Downloading redis-4.4.0-py3-none-any.whl (236 kB)\n",
      "Requirement already satisfied: urllib3>=1.26.0 in c:\\users\\toast\\anaconda3\\lib\\site-packages (from spotipy) (1.26.7)\n",
      "Requirement already satisfied: six>=1.15.0 in c:\\users\\toast\\anaconda3\\lib\\site-packages (from spotipy) (1.16.0)\n",
      "Collecting async-timeout>=4.0.2\n",
      "  Downloading async_timeout-4.0.2-py3-none-any.whl (5.8 kB)\n",
      "Requirement already satisfied: certifi>=2017.4.17 in c:\\users\\toast\\anaconda3\\lib\\site-packages (from requests>=2.25.0->spotipy) (2021.10.8)\n",
      "Requirement already satisfied: charset-normalizer~=2.0.0 in c:\\users\\toast\\anaconda3\\lib\\site-packages (from requests>=2.25.0->spotipy) (2.0.4)\n",
      "Requirement already satisfied: idna<4,>=2.5 in c:\\users\\toast\\anaconda3\\lib\\site-packages (from requests>=2.25.0->spotipy) (3.2)\n",
      "Installing collected packages: async-timeout, redis, spotipy\n",
      "Successfully installed async-timeout-4.0.2 redis-4.4.0 spotipy-2.21.0\n",
      "Note: you may need to restart the kernel to use updated packages.\n"
     ]
    }
   ],
   "source": [
    "pip install spotipy"
   ]
  },
  {
   "cell_type": "code",
   "execution_count": 3,
   "id": "6be44cc6",
   "metadata": {},
   "outputs": [
    {
     "name": "stdout",
     "output_type": "stream",
     "text": [
      "Collecting billboard.py\n",
      "  Downloading billboard.py-7.0.0-py2.py3-none-any.whl (7.0 kB)\n",
      "Requirement already satisfied: beautifulsoup4>=4.4.1 in c:\\users\\toast\\anaconda3\\lib\\site-packages (from billboard.py) (4.10.0)\n",
      "Requirement already satisfied: requests>=2.2.1 in c:\\users\\toast\\anaconda3\\lib\\site-packages (from billboard.py) (2.26.0)\n",
      "Requirement already satisfied: soupsieve>1.2 in c:\\users\\toast\\anaconda3\\lib\\site-packages (from beautifulsoup4>=4.4.1->billboard.py) (2.2.1)\n",
      "Requirement already satisfied: charset-normalizer~=2.0.0 in c:\\users\\toast\\anaconda3\\lib\\site-packages (from requests>=2.2.1->billboard.py) (2.0.4)\n",
      "Requirement already satisfied: idna<4,>=2.5 in c:\\users\\toast\\anaconda3\\lib\\site-packages (from requests>=2.2.1->billboard.py) (3.2)\n",
      "Requirement already satisfied: urllib3<1.27,>=1.21.1 in c:\\users\\toast\\anaconda3\\lib\\site-packages (from requests>=2.2.1->billboard.py) (1.26.7)\n",
      "Requirement already satisfied: certifi>=2017.4.17 in c:\\users\\toast\\anaconda3\\lib\\site-packages (from requests>=2.2.1->billboard.py) (2021.10.8)\n",
      "Installing collected packages: billboard.py\n",
      "Successfully installed billboard.py-7.0.0\n",
      "Note: you may need to restart the kernel to use updated packages.\n"
     ]
    }
   ],
   "source": [
    "pip install billboard.py"
   ]
  },
  {
   "cell_type": "code",
   "execution_count": 39,
   "id": "8da9083c",
   "metadata": {},
   "outputs": [],
   "source": [
    "#joaquin\n",
    "# import packages\n",
    "import billboard\n",
    "import pandas as pd\n",
    "import os\n",
    "import sys\n",
    "import json\n",
    "import spotipy\n",
    "import webbrowser\n",
    "import spotipy.util as util\n",
    "from json.decoder import JSONDecodeError"
   ]
  },
  {
   "cell_type": "code",
   "execution_count": 5,
   "id": "73ee9b9b",
   "metadata": {},
   "outputs": [
    {
     "name": "stdout",
     "output_type": "stream",
     "text": [
      "Enter the URL you were redirected to: https://www.google.com/?code=AQBixNseaaX8-J436vJbIQtC4HHquL6ow-A9ktn1jiYSQYB_PayCID_r9HAjZ-WkVibfldicUkbWxlrN75cA7F-LWg8pwl327H0SH2OV47q_wGYAufDKBUiAXs43fDs29Xan-TZ7CUwRMJLDiB_x0y34thT3aK48zPq21UUXAAtdzGatzCue309LdULQP7StWlxI4sXJx_XNS4V0bufZnDs75Idvk6cEshRJ-oZ74YX46LRaAlxyFZtXr4fbmZo\n"
     ]
    }
   ],
   "source": [
    "#joaquin\n",
    "scope = 'user-read-private user-read-playback-state user-modify-playback-state'\n",
    "\n",
    "if len(sys.argv) > 1:\n",
    "    username = sys.argv[1]\n",
    "else:\n",
    "    print(\"Usage: %s username\" % (sys.argv[0],))\n",
    "    sys.exit()\n",
    "\n",
    "token = util.prompt_for_user_token(username = 'anthony_345676543',\n",
    "                           scope=scope,\n",
    "                           client_id='36dd9c81d0a543059daebc8fd08a29aa',\n",
    "                           client_secret='b188c9196c2e43208de4e8a9bdb11570',\n",
    "                           redirect_uri='http://google.com/')\n",
    "\n",
    "spotifyObject = spotipy.Spotify(auth=token)"
   ]
  },
  {
   "cell_type": "code",
   "execution_count": 13,
   "id": "d9a0a3b4",
   "metadata": {},
   "outputs": [],
   "source": [
    "bilboard_artist_list=[]\n",
    "\n",
    "bilboard_artist_list.append('greatest-of-all-time-mainstream-rock-artists')\n",
    "bilboard_artist_list.append('greatest-country-artists')\n",
    "bilboard_artist_list.append('greatest-of-all-time-latin-artists')\n",
    "bilboard_artist_list.append('greatest-of-all-time-pop-songs-artists')\n",
    "bilboard_artist_list.append('greatest-r-b-hip-hop-artists')"
   ]
  },
  {
   "cell_type": "code",
   "execution_count": 7,
   "id": "0145a33e",
   "metadata": {},
   "outputs": [
    {
     "name": "stdout",
     "output_type": "stream",
     "text": [
      "7\n"
     ]
    }
   ],
   "source": []
  },
  {
   "cell_type": "code",
   "execution_count": 14,
   "id": "b2c318fa",
   "metadata": {},
   "outputs": [],
   "source": [
    "#joaquin\n",
    "def billboard_record_list(rec_type,chartname):\n",
    "    chart = billboard.ChartData(chartname)\n",
    "    rec_list =[]\n",
    "    for item in chart:\n",
    "        if rec_type == 'artist':\n",
    "            record=item.artist\n",
    "        elif rec_type == 'title':\n",
    "            record=item.title\n",
    "        elif rec_type == 'rank':\n",
    "            record=item.rank\n",
    "        rec_list.append(record)\n",
    "    return rec_list"
   ]
  },
  {
   "cell_type": "code",
   "execution_count": 25,
   "id": "8923d752",
   "metadata": {},
   "outputs": [],
   "source": [
    "#joaquin\n",
    "artists_searched = set()"
   ]
  },
  {
   "cell_type": "code",
   "execution_count": 15,
   "id": "e5b0e547",
   "metadata": {},
   "outputs": [],
   "source": [
    "#joaquin\n",
    "artist_list=[]\n",
    "for item in bilboard_artist_list:\n",
    "    artist=billboard_record_list('artist',item)\n",
    "    artist_list.append(artist)"
   ]
  },
  {
   "cell_type": "code",
   "execution_count": 18,
   "id": "a4897417",
   "metadata": {},
   "outputs": [],
   "source": [
    "artist_lst=flat_list = [num for sublist in artist_list for num in sublist]"
   ]
  },
  {
   "cell_type": "code",
   "execution_count": 19,
   "id": "db8c37b0",
   "metadata": {},
   "outputs": [
    {
     "name": "stdout",
     "output_type": "stream",
     "text": [
      "350\n"
     ]
    }
   ],
   "source": [
    "print(len(artist_lst))"
   ]
  },
  {
   "cell_type": "code",
   "execution_count": 47,
   "id": "e81a6daa",
   "metadata": {
    "scrolled": true
   },
   "outputs": [
    {
     "name": "stdout",
     "output_type": "stream",
     "text": [
      "['Drake', 'Mariah Carey', '2Pac']\n"
     ]
    }
   ],
   "source": [
    "#joaquin\n",
    "test_list= ['Drake','Mariah Carey','2Pac']\n",
    "print(test_list)"
   ]
  },
  {
   "cell_type": "code",
   "execution_count": 20,
   "id": "c618e9b5",
   "metadata": {},
   "outputs": [],
   "source": [
    "#Anthony\n",
    "user = spotifyObject.current_user()\n",
    "displayName = user['display_name']\n",
    "def retrive_artist(artist_list):\n",
    "    lst_of_lst=[]\n",
    "    for artist in artist_list:\n",
    "        searchResults = spotifyObject.search(artist,1,0,\"artist\")\n",
    "        artist = searchResults['artists']['items'][0]\n",
    "        artistID = artist['id']\n",
    "        albumResult = spotifyObject.artist_albums(artistID,album_type='album', limit=20)\n",
    "        albumResult = albumResult['items']\n",
    "        lst_of_lst.append(albumResult)\n",
    "    album_list = [item for sublist in lst_of_lst for item in sublist]\n",
    "    return album_list\n",
    "    "
   ]
  },
  {
   "cell_type": "code",
   "execution_count": 21,
   "id": "d78f5a97",
   "metadata": {},
   "outputs": [],
   "source": [
    "##joaquin\n",
    "def retrive_album_ids(artists_album_result):\n",
    "    album_id_list =[]\n",
    "    for album in artists_album_result:\n",
    "        album_id_list.append(album['id'])\n",
    "    return album_id_list"
   ]
  },
  {
   "cell_type": "code",
   "execution_count": 22,
   "id": "f2bd3b71",
   "metadata": {},
   "outputs": [],
   "source": [
    "#Anthony\n",
    "def retrive_albums(album_id_list): \n",
    "    track_list=[]\n",
    "    lst_of_lst=[]\n",
    "    for album_id in album_id_list:\n",
    "        trackResults = spotifyObject.album_tracks(album_id)\n",
    "        trackResults = trackResults['items']\n",
    "        lst_of_lst.append(trackResults)\n",
    "    track_list=[item for sublist in lst_of_lst for item in sublist]\n",
    "    return track_list"
   ]
  },
  {
   "cell_type": "code",
   "execution_count": 23,
   "id": "d47aadee",
   "metadata": {},
   "outputs": [],
   "source": [
    "#Anthony\n",
    "def artist_data_frame(artist_data):\n",
    "    df_artists = pd.DataFrame(columns=['artist_id','artist_name','genres'])\n",
    "    for artist in artist_data:\n",
    "        searchResults = spotifyObject.search(artist,1,0,\"artist\")\n",
    "        artist = searchResults['artists']['items'][0]\n",
    "        new_artist_row = pd.Series({'artist_id':artist['id'],'artist_name':artist['name'],'genres':artist['genres']})\n",
    "        new_artist_row=new_artist_row.to_frame().T\n",
    "        df_artists = pd.concat([df_artists,new_artist_row],ignore_index=True)\n",
    "    return df_artists"
   ]
  },
  {
   "cell_type": "code",
   "execution_count": 24,
   "id": "c9197602",
   "metadata": {},
   "outputs": [],
   "source": [
    "#Anthony\n",
    "def album_data_frame(album_res):\n",
    "    df_albums = pd.DataFrame(columns=['artist_name','album_name','artist_id','album_id'])\n",
    "    for album in album_res:\n",
    "        albumID = album['id']\n",
    "        new_album_row = pd.Series({'artist_name':album['artists'][0]['name'],'album_name':album['name'],'artist_id':album['artists'][0]['id'],'album_id': album['id']})  \n",
    "        new_album_row=new_album_row.to_frame().T\n",
    "        df_albums= pd.concat([df_albums,new_album_row], ignore_index=True)\n",
    "    return (df_albums,album['name'])"
   ]
  },
  {
   "cell_type": "code",
   "execution_count": 25,
   "id": "7058c4e1",
   "metadata": {},
   "outputs": [],
   "source": [
    "#Anthony\n",
    "def tracks_data_frame(album_info):\n",
    "    df_tracks = pd.DataFrame(columns=['artist_id','artists_name','song_id','song_name'])\n",
    "    for track in album_info:\n",
    "        artists_names =[]\n",
    "        artists_ids = []\n",
    "        for artist in track['artists']:\n",
    "            artists_names.append(artist['name'])\n",
    "            artists_ids.append(artist['id'])\n",
    "            new_track_row = pd.Series({'artist_id': artists_ids,'artists_name': artists_names,'song_id': track['id'],'song_name':track['name']})\n",
    "            new_track_row = new_track_row.to_frame().T\n",
    "            df_tracks = pd.concat([df_tracks,new_track_row], ignore_index=True)\n",
    "    return df_tracks\n",
    "        "
   ]
  },
  {
   "cell_type": "code",
   "execution_count": 26,
   "id": "9eef44e2",
   "metadata": {},
   "outputs": [],
   "source": [
    "#Anthony\n",
    "artists_info=retrive_artist(artist_lst)"
   ]
  },
  {
   "cell_type": "code",
   "execution_count": 27,
   "id": "de762eff",
   "metadata": {},
   "outputs": [],
   "source": [
    "#Anthony\n",
    "artists_albums_ids_list=retrive_album_ids(artists_info)"
   ]
  },
  {
   "cell_type": "code",
   "execution_count": 28,
   "id": "069bd8b2",
   "metadata": {},
   "outputs": [],
   "source": [
    "#Anthony\n",
    "albums_info=retrive_albums(artists_albums_ids_list)"
   ]
  },
  {
   "cell_type": "code",
   "execution_count": 32,
   "id": "c3519ef7",
   "metadata": {},
   "outputs": [
    {
     "data": {
      "text/html": [
       "<div>\n",
       "<style scoped>\n",
       "    .dataframe tbody tr th:only-of-type {\n",
       "        vertical-align: middle;\n",
       "    }\n",
       "\n",
       "    .dataframe tbody tr th {\n",
       "        vertical-align: top;\n",
       "    }\n",
       "\n",
       "    .dataframe thead th {\n",
       "        text-align: right;\n",
       "    }\n",
       "</style>\n",
       "<table border=\"1\" class=\"dataframe\">\n",
       "  <thead>\n",
       "    <tr style=\"text-align: right;\">\n",
       "      <th></th>\n",
       "      <th>artist_id</th>\n",
       "      <th>artist_name</th>\n",
       "      <th>genres</th>\n",
       "    </tr>\n",
       "  </thead>\n",
       "  <tbody>\n",
       "    <tr>\n",
       "      <th>0</th>\n",
       "      <td>70BYFdaZbEKbeauJ670ysI</td>\n",
       "      <td>Shinedown</td>\n",
       "      <td>[alternative metal, nu metal, post-grunge]</td>\n",
       "    </tr>\n",
       "    <tr>\n",
       "      <th>1</th>\n",
       "      <td>6gZq1Q6bdOxsUPUG1TaFbF</td>\n",
       "      <td>Godsmack</td>\n",
       "      <td>[alternative metal, nu metal, post-grunge, rap...</td>\n",
       "    </tr>\n",
       "    <tr>\n",
       "      <th>2</th>\n",
       "      <td>2xiIXseIJcq3nG7C8fHeBj</td>\n",
       "      <td>Three Days Grace</td>\n",
       "      <td>[alternative metal, canadian metal, canadian r...</td>\n",
       "    </tr>\n",
       "    <tr>\n",
       "      <th>3</th>\n",
       "      <td>2cnMpRsOVqtPMfq7YiFE6K</td>\n",
       "      <td>Van Halen</td>\n",
       "      <td>[album rock, classic rock, hard rock, metal, r...</td>\n",
       "    </tr>\n",
       "    <tr>\n",
       "      <th>4</th>\n",
       "      <td>3TOqt5oJwL9BE2NG9MEwDa</td>\n",
       "      <td>Disturbed</td>\n",
       "      <td>[alternative metal, nu metal, rap metal]</td>\n",
       "    </tr>\n",
       "    <tr>\n",
       "      <th>...</th>\n",
       "      <td>...</td>\n",
       "      <td>...</td>\n",
       "      <td>...</td>\n",
       "    </tr>\n",
       "    <tr>\n",
       "      <th>345</th>\n",
       "      <td>2ttm3uT0N1RN7vwKv1pQgh</td>\n",
       "      <td>Brook Benton</td>\n",
       "      <td>[rhythm and blues, soul]</td>\n",
       "    </tr>\n",
       "    <tr>\n",
       "      <th>346</th>\n",
       "      <td>2EURsXo9qlt1aMWlviGCRi</td>\n",
       "      <td>Ashford &amp; Simpson</td>\n",
       "      <td>[classic soul, disco, funk, post-disco, quiet ...</td>\n",
       "    </tr>\n",
       "    <tr>\n",
       "      <th>347</th>\n",
       "      <td>0hCNtLu0JehylgoiP8L4Gh</td>\n",
       "      <td>Nicki Minaj</td>\n",
       "      <td>[dance pop, hip pop, pop, queens hip hop, rap]</td>\n",
       "    </tr>\n",
       "    <tr>\n",
       "      <th>348</th>\n",
       "      <td>0wbrRIw2po5DV4LeaHw55S</td>\n",
       "      <td>The Dells</td>\n",
       "      <td>[chicago soul, classic soul, funk, quiet storm...</td>\n",
       "    </tr>\n",
       "    <tr>\n",
       "      <th>349</th>\n",
       "      <td>5xLSa7l4IV1gsQfhAMvl0U</td>\n",
       "      <td>B.B. King</td>\n",
       "      <td>[blues, blues rock, classic rock, electric blu...</td>\n",
       "    </tr>\n",
       "  </tbody>\n",
       "</table>\n",
       "<p>350 rows × 3 columns</p>\n",
       "</div>"
      ],
      "text/plain": [
       "                  artist_id        artist_name  \\\n",
       "0    70BYFdaZbEKbeauJ670ysI          Shinedown   \n",
       "1    6gZq1Q6bdOxsUPUG1TaFbF           Godsmack   \n",
       "2    2xiIXseIJcq3nG7C8fHeBj   Three Days Grace   \n",
       "3    2cnMpRsOVqtPMfq7YiFE6K          Van Halen   \n",
       "4    3TOqt5oJwL9BE2NG9MEwDa          Disturbed   \n",
       "..                      ...                ...   \n",
       "345  2ttm3uT0N1RN7vwKv1pQgh       Brook Benton   \n",
       "346  2EURsXo9qlt1aMWlviGCRi  Ashford & Simpson   \n",
       "347  0hCNtLu0JehylgoiP8L4Gh        Nicki Minaj   \n",
       "348  0wbrRIw2po5DV4LeaHw55S          The Dells   \n",
       "349  5xLSa7l4IV1gsQfhAMvl0U          B.B. King   \n",
       "\n",
       "                                                genres  \n",
       "0           [alternative metal, nu metal, post-grunge]  \n",
       "1    [alternative metal, nu metal, post-grunge, rap...  \n",
       "2    [alternative metal, canadian metal, canadian r...  \n",
       "3    [album rock, classic rock, hard rock, metal, r...  \n",
       "4             [alternative metal, nu metal, rap metal]  \n",
       "..                                                 ...  \n",
       "345                           [rhythm and blues, soul]  \n",
       "346  [classic soul, disco, funk, post-disco, quiet ...  \n",
       "347     [dance pop, hip pop, pop, queens hip hop, rap]  \n",
       "348  [chicago soul, classic soul, funk, quiet storm...  \n",
       "349  [blues, blues rock, classic rock, electric blu...  \n",
       "\n",
       "[350 rows x 3 columns]"
      ]
     },
     "metadata": {},
     "output_type": "display_data"
    }
   ],
   "source": [
    "#Anthony\n",
    "artist_data =artist_data_frame(artist_lst)\n",
    "display(artist_data)"
   ]
  },
  {
   "cell_type": "code",
   "execution_count": 33,
   "id": "502cc406",
   "metadata": {},
   "outputs": [
    {
     "data": {
      "text/plain": [
       "(     artist_name                                     album_name  \\\n",
       " 0      Shinedown                                    Planet Zero   \n",
       " 1      Shinedown                            ATTENTION ATTENTION   \n",
       " 2      Shinedown                             Threat to Survival   \n",
       " 3      Shinedown                                      Amaryllis   \n",
       " 4      Shinedown                  Somewhere in the Stratosphere   \n",
       " ...          ...                                            ...   \n",
       " 5813   B.B. King                                 My Sweet Angel   \n",
       " 5814   B.B. King                         The Fabulous B.B. King   \n",
       " 5815   B.B. King                                      Mr. Blues   \n",
       " 5816   B.B. King  Martin Scorsese Presents The Blues: B.B. King   \n",
       " 5817   B.B. King                                    Reflections   \n",
       " \n",
       "                    artist_id                album_id  \n",
       " 0     70BYFdaZbEKbeauJ670ysI  7tWcsQLHpvXnUPN1jsSaGw  \n",
       " 1     70BYFdaZbEKbeauJ670ysI  0dtwIycvTaFNjo44QRwWz7  \n",
       " 2     70BYFdaZbEKbeauJ670ysI  7969zwJB8p021EBcCUjsv9  \n",
       " 3     70BYFdaZbEKbeauJ670ysI  2WvIDc4wdKshyFh2EzLAs0  \n",
       " 4     70BYFdaZbEKbeauJ670ysI  511AeIx5SwqUp6stQyxm47  \n",
       " ...                      ...                     ...  \n",
       " 5813  5xLSa7l4IV1gsQfhAMvl0U  2J5XdPNKfHAjp4bScEJmdL  \n",
       " 5814  5xLSa7l4IV1gsQfhAMvl0U  4Rrkcbww9cSJXUg5mNo2Ie  \n",
       " 5815  5xLSa7l4IV1gsQfhAMvl0U  2nMtsdbBiz5f32mKBNFgXt  \n",
       " 5816  5xLSa7l4IV1gsQfhAMvl0U  2yMOWJ5fTfDJ6czMYcoa6F  \n",
       " 5817  5xLSa7l4IV1gsQfhAMvl0U  1aaiB3EdcB7obLO9P9RwNX  \n",
       " \n",
       " [5818 rows x 4 columns],\n",
       " 'Reflections')"
      ]
     },
     "metadata": {},
     "output_type": "display_data"
    }
   ],
   "source": [
    "#Anthony\n",
    "artists_album_data=album_data_frame(artists_info)\n",
    "display(artists_album_data)"
   ]
  },
  {
   "cell_type": "code",
   "execution_count": 34,
   "id": "369d6c4a",
   "metadata": {},
   "outputs": [
    {
     "data": {
      "text/html": [
       "<div>\n",
       "<style scoped>\n",
       "    .dataframe tbody tr th:only-of-type {\n",
       "        vertical-align: middle;\n",
       "    }\n",
       "\n",
       "    .dataframe tbody tr th {\n",
       "        vertical-align: top;\n",
       "    }\n",
       "\n",
       "    .dataframe thead th {\n",
       "        text-align: right;\n",
       "    }\n",
       "</style>\n",
       "<table border=\"1\" class=\"dataframe\">\n",
       "  <thead>\n",
       "    <tr style=\"text-align: right;\">\n",
       "      <th></th>\n",
       "      <th>artist_id</th>\n",
       "      <th>artists_name</th>\n",
       "      <th>song_id</th>\n",
       "      <th>song_name</th>\n",
       "    </tr>\n",
       "  </thead>\n",
       "  <tbody>\n",
       "    <tr>\n",
       "      <th>0</th>\n",
       "      <td>[70BYFdaZbEKbeauJ670ysI]</td>\n",
       "      <td>[Shinedown]</td>\n",
       "      <td>5tssHqeMYDYgKthXHcxGcS</td>\n",
       "      <td>2184</td>\n",
       "    </tr>\n",
       "    <tr>\n",
       "      <th>1</th>\n",
       "      <td>[70BYFdaZbEKbeauJ670ysI]</td>\n",
       "      <td>[Shinedown]</td>\n",
       "      <td>2gbtpMbUBLlm4VwFcEmPRa</td>\n",
       "      <td>No Sleep Tonight</td>\n",
       "    </tr>\n",
       "    <tr>\n",
       "      <th>2</th>\n",
       "      <td>[70BYFdaZbEKbeauJ670ysI]</td>\n",
       "      <td>[Shinedown]</td>\n",
       "      <td>7g2LuO2QFplZfsLKRFiVHl</td>\n",
       "      <td>Planet Zero</td>\n",
       "    </tr>\n",
       "    <tr>\n",
       "      <th>3</th>\n",
       "      <td>[70BYFdaZbEKbeauJ670ysI]</td>\n",
       "      <td>[Shinedown]</td>\n",
       "      <td>4dhJVxtsA3381Jbt8n6tk8</td>\n",
       "      <td>Welcome</td>\n",
       "    </tr>\n",
       "    <tr>\n",
       "      <th>4</th>\n",
       "      <td>[70BYFdaZbEKbeauJ670ysI]</td>\n",
       "      <td>[Shinedown]</td>\n",
       "      <td>6Sg9qZjk3mEfK0oMu5XgR4</td>\n",
       "      <td>Dysfunctional You</td>\n",
       "    </tr>\n",
       "    <tr>\n",
       "      <th>...</th>\n",
       "      <td>...</td>\n",
       "      <td>...</td>\n",
       "      <td>...</td>\n",
       "      <td>...</td>\n",
       "    </tr>\n",
       "    <tr>\n",
       "      <th>104099</th>\n",
       "      <td>[5xLSa7l4IV1gsQfhAMvl0U]</td>\n",
       "      <td>[B.B. King]</td>\n",
       "      <td>4H8QPkbHSOJK6IBpkl7at6</td>\n",
       "      <td>Tomorrow Night</td>\n",
       "    </tr>\n",
       "    <tr>\n",
       "      <th>104100</th>\n",
       "      <td>[5xLSa7l4IV1gsQfhAMvl0U]</td>\n",
       "      <td>[B.B. King]</td>\n",
       "      <td>1ENHk1LxzstRwpoUAWVFTB</td>\n",
       "      <td>There I've Said It Again</td>\n",
       "    </tr>\n",
       "    <tr>\n",
       "      <th>104101</th>\n",
       "      <td>[5xLSa7l4IV1gsQfhAMvl0U]</td>\n",
       "      <td>[B.B. King]</td>\n",
       "      <td>3WwEIvuYWaP68sA9t65Xaj</td>\n",
       "      <td>Always On My Mind</td>\n",
       "    </tr>\n",
       "    <tr>\n",
       "      <th>104102</th>\n",
       "      <td>[5xLSa7l4IV1gsQfhAMvl0U]</td>\n",
       "      <td>[B.B. King]</td>\n",
       "      <td>13wSFMymBf4xXbKI6EZUEr</td>\n",
       "      <td>Cross My Heart</td>\n",
       "    </tr>\n",
       "    <tr>\n",
       "      <th>104103</th>\n",
       "      <td>[5xLSa7l4IV1gsQfhAMvl0U]</td>\n",
       "      <td>[B.B. King]</td>\n",
       "      <td>5pgRKmr3CTCLmCwszo3wmI</td>\n",
       "      <td>What A Wonderful World</td>\n",
       "    </tr>\n",
       "  </tbody>\n",
       "</table>\n",
       "<p>104104 rows × 4 columns</p>\n",
       "</div>"
      ],
      "text/plain": [
       "                       artist_id artists_name                 song_id  \\\n",
       "0       [70BYFdaZbEKbeauJ670ysI]  [Shinedown]  5tssHqeMYDYgKthXHcxGcS   \n",
       "1       [70BYFdaZbEKbeauJ670ysI]  [Shinedown]  2gbtpMbUBLlm4VwFcEmPRa   \n",
       "2       [70BYFdaZbEKbeauJ670ysI]  [Shinedown]  7g2LuO2QFplZfsLKRFiVHl   \n",
       "3       [70BYFdaZbEKbeauJ670ysI]  [Shinedown]  4dhJVxtsA3381Jbt8n6tk8   \n",
       "4       [70BYFdaZbEKbeauJ670ysI]  [Shinedown]  6Sg9qZjk3mEfK0oMu5XgR4   \n",
       "...                          ...          ...                     ...   \n",
       "104099  [5xLSa7l4IV1gsQfhAMvl0U]  [B.B. King]  4H8QPkbHSOJK6IBpkl7at6   \n",
       "104100  [5xLSa7l4IV1gsQfhAMvl0U]  [B.B. King]  1ENHk1LxzstRwpoUAWVFTB   \n",
       "104101  [5xLSa7l4IV1gsQfhAMvl0U]  [B.B. King]  3WwEIvuYWaP68sA9t65Xaj   \n",
       "104102  [5xLSa7l4IV1gsQfhAMvl0U]  [B.B. King]  13wSFMymBf4xXbKI6EZUEr   \n",
       "104103  [5xLSa7l4IV1gsQfhAMvl0U]  [B.B. King]  5pgRKmr3CTCLmCwszo3wmI   \n",
       "\n",
       "                       song_name  \n",
       "0                           2184  \n",
       "1               No Sleep Tonight  \n",
       "2                    Planet Zero  \n",
       "3                        Welcome  \n",
       "4              Dysfunctional You  \n",
       "...                          ...  \n",
       "104099            Tomorrow Night  \n",
       "104100  There I've Said It Again  \n",
       "104101         Always On My Mind  \n",
       "104102            Cross My Heart  \n",
       "104103    What A Wonderful World  \n",
       "\n",
       "[104104 rows x 4 columns]"
      ]
     },
     "metadata": {},
     "output_type": "display_data"
    }
   ],
   "source": [
    "#Anthony\n",
    "track_data =tracks_data_frame(albums_info)\n",
    "display(track_data)"
   ]
  },
  {
   "cell_type": "code",
   "execution_count": 36,
   "id": "a6ec8328",
   "metadata": {},
   "outputs": [
    {
     "data": {
      "text/html": [
       "<div>\n",
       "<style scoped>\n",
       "    .dataframe tbody tr th:only-of-type {\n",
       "        vertical-align: middle;\n",
       "    }\n",
       "\n",
       "    .dataframe tbody tr th {\n",
       "        vertical-align: top;\n",
       "    }\n",
       "\n",
       "    .dataframe thead th {\n",
       "        text-align: right;\n",
       "    }\n",
       "</style>\n",
       "<table border=\"1\" class=\"dataframe\">\n",
       "  <thead>\n",
       "    <tr style=\"text-align: right;\">\n",
       "      <th></th>\n",
       "      <th>artist_name</th>\n",
       "      <th>album_name</th>\n",
       "      <th>artist_id</th>\n",
       "      <th>album_id</th>\n",
       "    </tr>\n",
       "  </thead>\n",
       "  <tbody>\n",
       "    <tr>\n",
       "      <th>0</th>\n",
       "      <td>Shinedown</td>\n",
       "      <td>Planet Zero</td>\n",
       "      <td>70BYFdaZbEKbeauJ670ysI</td>\n",
       "      <td>7tWcsQLHpvXnUPN1jsSaGw</td>\n",
       "    </tr>\n",
       "    <tr>\n",
       "      <th>1</th>\n",
       "      <td>Shinedown</td>\n",
       "      <td>ATTENTION ATTENTION</td>\n",
       "      <td>70BYFdaZbEKbeauJ670ysI</td>\n",
       "      <td>0dtwIycvTaFNjo44QRwWz7</td>\n",
       "    </tr>\n",
       "    <tr>\n",
       "      <th>2</th>\n",
       "      <td>Shinedown</td>\n",
       "      <td>Threat to Survival</td>\n",
       "      <td>70BYFdaZbEKbeauJ670ysI</td>\n",
       "      <td>7969zwJB8p021EBcCUjsv9</td>\n",
       "    </tr>\n",
       "    <tr>\n",
       "      <th>3</th>\n",
       "      <td>Shinedown</td>\n",
       "      <td>Amaryllis</td>\n",
       "      <td>70BYFdaZbEKbeauJ670ysI</td>\n",
       "      <td>2WvIDc4wdKshyFh2EzLAs0</td>\n",
       "    </tr>\n",
       "    <tr>\n",
       "      <th>4</th>\n",
       "      <td>Shinedown</td>\n",
       "      <td>Somewhere in the Stratosphere</td>\n",
       "      <td>70BYFdaZbEKbeauJ670ysI</td>\n",
       "      <td>511AeIx5SwqUp6stQyxm47</td>\n",
       "    </tr>\n",
       "    <tr>\n",
       "      <th>...</th>\n",
       "      <td>...</td>\n",
       "      <td>...</td>\n",
       "      <td>...</td>\n",
       "      <td>...</td>\n",
       "    </tr>\n",
       "    <tr>\n",
       "      <th>5813</th>\n",
       "      <td>B.B. King</td>\n",
       "      <td>My Sweet Angel</td>\n",
       "      <td>5xLSa7l4IV1gsQfhAMvl0U</td>\n",
       "      <td>2J5XdPNKfHAjp4bScEJmdL</td>\n",
       "    </tr>\n",
       "    <tr>\n",
       "      <th>5814</th>\n",
       "      <td>B.B. King</td>\n",
       "      <td>The Fabulous B.B. King</td>\n",
       "      <td>5xLSa7l4IV1gsQfhAMvl0U</td>\n",
       "      <td>4Rrkcbww9cSJXUg5mNo2Ie</td>\n",
       "    </tr>\n",
       "    <tr>\n",
       "      <th>5815</th>\n",
       "      <td>B.B. King</td>\n",
       "      <td>Mr. Blues</td>\n",
       "      <td>5xLSa7l4IV1gsQfhAMvl0U</td>\n",
       "      <td>2nMtsdbBiz5f32mKBNFgXt</td>\n",
       "    </tr>\n",
       "    <tr>\n",
       "      <th>5816</th>\n",
       "      <td>B.B. King</td>\n",
       "      <td>Martin Scorsese Presents The Blues: B.B. King</td>\n",
       "      <td>5xLSa7l4IV1gsQfhAMvl0U</td>\n",
       "      <td>2yMOWJ5fTfDJ6czMYcoa6F</td>\n",
       "    </tr>\n",
       "    <tr>\n",
       "      <th>5817</th>\n",
       "      <td>B.B. King</td>\n",
       "      <td>Reflections</td>\n",
       "      <td>5xLSa7l4IV1gsQfhAMvl0U</td>\n",
       "      <td>1aaiB3EdcB7obLO9P9RwNX</td>\n",
       "    </tr>\n",
       "  </tbody>\n",
       "</table>\n",
       "<p>5818 rows × 4 columns</p>\n",
       "</div>"
      ],
      "text/plain": [
       "     artist_name                                     album_name  \\\n",
       "0      Shinedown                                    Planet Zero   \n",
       "1      Shinedown                            ATTENTION ATTENTION   \n",
       "2      Shinedown                             Threat to Survival   \n",
       "3      Shinedown                                      Amaryllis   \n",
       "4      Shinedown                  Somewhere in the Stratosphere   \n",
       "...          ...                                            ...   \n",
       "5813   B.B. King                                 My Sweet Angel   \n",
       "5814   B.B. King                         The Fabulous B.B. King   \n",
       "5815   B.B. King                                      Mr. Blues   \n",
       "5816   B.B. King  Martin Scorsese Presents The Blues: B.B. King   \n",
       "5817   B.B. King                                    Reflections   \n",
       "\n",
       "                   artist_id                album_id  \n",
       "0     70BYFdaZbEKbeauJ670ysI  7tWcsQLHpvXnUPN1jsSaGw  \n",
       "1     70BYFdaZbEKbeauJ670ysI  0dtwIycvTaFNjo44QRwWz7  \n",
       "2     70BYFdaZbEKbeauJ670ysI  7969zwJB8p021EBcCUjsv9  \n",
       "3     70BYFdaZbEKbeauJ670ysI  2WvIDc4wdKshyFh2EzLAs0  \n",
       "4     70BYFdaZbEKbeauJ670ysI  511AeIx5SwqUp6stQyxm47  \n",
       "...                      ...                     ...  \n",
       "5813  5xLSa7l4IV1gsQfhAMvl0U  2J5XdPNKfHAjp4bScEJmdL  \n",
       "5814  5xLSa7l4IV1gsQfhAMvl0U  4Rrkcbww9cSJXUg5mNo2Ie  \n",
       "5815  5xLSa7l4IV1gsQfhAMvl0U  2nMtsdbBiz5f32mKBNFgXt  \n",
       "5816  5xLSa7l4IV1gsQfhAMvl0U  2yMOWJ5fTfDJ6czMYcoa6F  \n",
       "5817  5xLSa7l4IV1gsQfhAMvl0U  1aaiB3EdcB7obLO9P9RwNX  \n",
       "\n",
       "[5818 rows x 4 columns]"
      ]
     },
     "metadata": {},
     "output_type": "display_data"
    }
   ],
   "source": [
    "display(artists_album_data[0])"
   ]
  },
  {
   "cell_type": "code",
   "execution_count": null,
   "id": "49922690",
   "metadata": {},
   "outputs": [],
   "source": [
    "pip install bertopic"
   ]
  },
  {
   "cell_type": "code",
   "execution_count": null,
   "id": "7513ad32",
   "metadata": {},
   "outputs": [],
   "source": [
    "from bertopic import BERTopic\n",
    "from sklearn.datasets import fetch_20newsgroups\n",
    "\n",
    "docs = fetch_20newsgroups(subset='all',  remove=('headers', 'footers', 'quotes'))['data']\n",
    "\n",
    "topic_model = BERTopic()\n",
    "topics, probs = topic_model.fit_transform(docs)"
   ]
  },
  {
   "cell_type": "code",
   "execution_count": null,
   "id": "514d8147",
   "metadata": {},
   "outputs": [],
   "source": []
  }
 ],
 "metadata": {
  "kernelspec": {
   "display_name": "Python 3 (ipykernel)",
   "language": "python",
   "name": "python3"
  },
  "language_info": {
   "codemirror_mode": {
    "name": "ipython",
    "version": 3
   },
   "file_extension": ".py",
   "mimetype": "text/x-python",
   "name": "python",
   "nbconvert_exporter": "python",
   "pygments_lexer": "ipython3",
   "version": "3.9.7"
  }
 },
 "nbformat": 4,
 "nbformat_minor": 5
}
